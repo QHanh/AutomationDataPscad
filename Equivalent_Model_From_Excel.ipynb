{
 "cells": [
  {
   "cell_type": "code",
   "execution_count": 1,
   "metadata": {},
   "outputs": [],
   "source": [
    "import pandas as pd\n",
    "import os, re, shutil\n",
    "import csv \n",
    "import xlrd\n",
    "import math\n",
    "import time\n",
    "import numpy as np\n",
    "import logging\n",
    "import mhi.pscad\n",
    "import networkx as nx\n",
    "import matplotlib.pyplot as plt\n",
    "import datetime\n",
    "#import numpy as np\n",
    "import sys, os\n",
    "sys.path.insert(0, '..')\n",
    "import os.path"
   ]
  },
  {
   "cell_type": "code",
   "execution_count": 2,
   "metadata": {},
   "outputs": [],
   "source": [
    "from usrlibs.fileUtils import UsrFileUtils as utils\n",
    "from usrlibs.UsrFuncDefP2P import UsrFuncDefs\n",
    "P2P = UsrFuncDefs()\n",
    "from usrlibs.SystemStudy import UsrSystemStudy\n",
    "ss = UsrSystemStudy()\n",
    "from usrlibs.emailUtils import UsrMailUtils\n",
    "mailutils = UsrMailUtils()\n"
   ]
  },
  {
   "cell_type": "code",
   "execution_count": null,
   "metadata": {},
   "outputs": [],
   "source": []
  },
  {
   "cell_type": "code",
   "execution_count": 3,
   "metadata": {},
   "outputs": [],
   "source": [
    "time_start = time.time()"
   ]
  },
  {
   "cell_type": "markdown",
   "metadata": {},
   "source": [
    "compiler_list = {\n",
    "    'GFortran 4.6.2': '.gf46',\n",
    "    'Intel(R) Visual Fortran Compiler 19.0.1.144': '.if15_x86',\n",
    "    'Intel(R) Visual Fortran Compiler 19.0.1.144': '.if15_x86'}\n",
    "\n",
    "fortran_version = sorted(compiler_list.keys())[1] #0:Gfortran, 1: Intel-86, 2: Intel-64bit\n",
    "fortran_ext = compiler_list[fortran_version]"
   ]
  },
  {
   "cell_type": "markdown",
   "metadata": {},
   "source": [
    "# 1. Read Data and Proceed"
   ]
  },
  {
   "cell_type": "code",
   "execution_count": 4,
   "metadata": {},
   "outputs": [],
   "source": [
    "Freq = 60"
   ]
  },
  {
   "cell_type": "code",
   "execution_count": 5,
   "metadata": {},
   "outputs": [],
   "source": [
    "working_dir = os.getcwd()\n",
    "#retrieves the current working directory and assigns it to the variable 'working_dir'.\n",
    "#The os.getcwd() function is used to get the current working directory where your Python script is located\n",
    "project_infor_dir = working_dir + \"\\\\\" + \"Project_Info\"\n",
    "#This line constructs a path to a directory named \"Project_Info\" by concatenating the 'working_dir' with the subdirectory name\n",
    "raw_files = utils.get_all_file_names(project_infor_dir, \".xlsm\")\n",
    "file_name = project_infor_dir + \"\\\\\" + raw_files[0] + '.xlsm'\n",
    "#constructs a specific file name by concatenating the 'project_infor_dir', a backslash (\\), the third element (index 2) from the raw_files list, and the \".xlsm\" extension\n",
    "\n",
    "#wb = xlrd.open_workbook(file_name)"
   ]
  },
  {
   "cell_type": "code",
   "execution_count": 6,
   "metadata": {},
   "outputs": [
    {
     "name": "stdout",
     "output_type": "stream",
     "text": [
      "d:\\Work_Coding\\PSCAD\\Project_Info\\River_Start_Solar_IV.xlsm\n"
     ]
    }
   ],
   "source": [
    "print(file_name)"
   ]
  },
  {
   "cell_type": "code",
   "execution_count": 7,
   "metadata": {},
   "outputs": [
    {
     "name": "stderr",
     "output_type": "stream",
     "text": [
      "c:\\Users\\Nguyen Tien Bac\\AppData\\Local\\Programs\\Python\\Python39\\lib\\site-packages\\openpyxl\\worksheet\\_reader.py:329: UserWarning: Data Validation extension is not supported and will be removed\n",
      "  warn(msg)\n"
     ]
    }
   ],
   "source": [
    "# read excel file\n",
    "xldataframe = pd.ExcelFile(file_name)\n",
    "sheets = xldataframe.sheet_names\n",
    "df = xldataframe.parse(sheets[3])\n",
    "#why 'df' also contains sheets[1]"
   ]
  },
  {
   "cell_type": "code",
   "execution_count": 8,
   "metadata": {},
   "outputs": [],
   "source": [
    "#print(df)"
   ]
  },
  {
   "cell_type": "code",
   "execution_count": 9,
   "metadata": {},
   "outputs": [],
   "source": [
    "#print(sheets)"
   ]
  },
  {
   "cell_type": "markdown",
   "metadata": {},
   "source": [
    "## Read data equivalent PI section"
   ]
  },
  {
   "cell_type": "code",
   "execution_count": 10,
   "metadata": {},
   "outputs": [],
   "source": [
    "#This code only read sheets[0,2,3]\n",
    "# Define PI section\n",
    "PILineDef = {}\n",
    "PIattr = {}\n",
    "PIpara = {}\n",
    "# Define 3-winding MPTs\n"
   ]
  },
  {
   "cell_type": "code",
   "execution_count": 11,
   "metadata": {},
   "outputs": [],
   "source": [
    "BigOrder = []  #ultimate list of list of all feeders in the plant\n",
    "order = []     #working list that the buses of the current feeder is saved in until it is appended to the BigOrder feeder list\n",
    "allFdrLen = []\n",
    "fdrLen = []\n",
    "i = 0\n",
    "PIdata = []\n",
    "cnt = 0\n",
    "Runs = []\n",
    "while float(df.iloc[i,1]) > 0:\n",
    "    pair = [int(df.iloc[i,1]), int(df.iloc[i,2])]\n",
    "    order.append(pair)\n",
    "    line = [df.iloc[i,x] for x in [1, 2, 4, 23, 24, 27, 25, 26, 27, 5]] # last entry is for the cable length\n",
    "    fdrLen.append([int(df.iloc[i,1]), int(df.iloc[i,2]), int(df.iloc[i, 5])])\n",
    "    #PIdata.append(PIdata.copy()) \n",
    "    #PIdata[cnt] = P2P.usr_LineData(line, PIdata[cnt])\n",
    "    PItemp = P2P.usr_LineData(line, PIattr.copy(), PIpara.copy()) \n",
    "    # .copy() to avoid mutual editable of the dictionaries\n",
    "    #it copy data from usr_LineData dictionary in UsrFuncDefP2P file with each i value \n",
    "    PIdata.append(PItemp)\n",
    "#    print(pair) \n",
    "    cnt += 1\n",
    "    if (int(df.iloc[i,2]) > 100000) & (int(df.iloc[i,2]) % 10000 == 0):\n",
    "        #why should be greater than 1000000 and 10000\n",
    "        BigOrder.append(order)\n",
    "        #contains 'from' node and 'to' node addresses\n",
    "        order = []\n",
    "\n",
    "        allFdrLen.append(fdrLen)\n",
    "        #allFdrLen contains data in '4 UG collection sys impedance' like 'from','to','length'\n",
    "        fdrLen = []\n",
    "    i += 1\n",
    "n_rows = i\n",
    "#for p in PIdata:\n",
    "#    print(p[0]['LConn'], p[0]['RConn'])\n",
    "#for (i, o) in enumerate(BigOrder):\n",
    "#    print(i)\n",
    "#    print(o)"
   ]
  },
  {
   "cell_type": "code",
   "execution_count": 12,
   "metadata": {},
   "outputs": [
    {
     "data": {
      "text/plain": [
       "[[[10006, 10007, 1198],\n",
       "  [10007, 11000, 902],\n",
       "  [10008, 11000, 1593],\n",
       "  [11000, 10009, 3922],\n",
       "  [10009, 10012, 3481],\n",
       "  [10012, 10010, 1343],\n",
       "  [10010, 12000, 1477],\n",
       "  [10005, 12000, 5123],\n",
       "  [12000, 13000, 1327],\n",
       "  [10004, 13000, 377],\n",
       "  [13000, 14000, 4237],\n",
       "  [10002, 14000, 66],\n",
       "  [14000, 15000, 1714],\n",
       "  [10001, 15000, 66],\n",
       "  [15000, 110000, 4455]],\n",
       " [[20021, 20019, 1673],\n",
       "  [20019, 20018, 896],\n",
       "  [20018, 20014, 1154],\n",
       "  [20014, 21000, 2023],\n",
       "  [20020, 20016, 727],\n",
       "  [20016, 20017, 723],\n",
       "  [20017, 20015, 754],\n",
       "  [20015, 21000, 312],\n",
       "  [21000, 22000, 536],\n",
       "  [20013, 22000, 66],\n",
       "  [22000, 23000, 1039],\n",
       "  [20011, 23000, 66],\n",
       "  [23000, 24000, 4007],\n",
       "  [20003, 24000, 66],\n",
       "  [24000, 25000, 576],\n",
       "  [25000, 110000, 6929]],\n",
       " [[30034, 30030, 1276],\n",
       "  [30030, 30027, 784],\n",
       "  [30027, 30025, 851],\n",
       "  [30025, 30023, 771],\n",
       "  [30023, 31000, 399],\n",
       "  [30029, 30028, 496],\n",
       "  [30028, 30026, 906],\n",
       "  [30026, 30024, 576],\n",
       "  [30024, 31000, 1207],\n",
       "  [31000, 32000, 2178],\n",
       "  [30022, 32000, 66],\n",
       "  [32000, 110000, 15894]],\n",
       " [[40041, 40040, 1433],\n",
       "  [40040, 40039, 1313],\n",
       "  [40039, 40038, 841],\n",
       "  [40038, 40037, 609],\n",
       "  [40037, 40036, 1983],\n",
       "  [40036, 40035, 544],\n",
       "  [40035, 41000, 3179],\n",
       "  [40033, 40032, 850],\n",
       "  [40032, 40031, 1764],\n",
       "  [40031, 41000, 1617],\n",
       "  [41000, 110000, 20565]]]"
      ]
     },
     "execution_count": 12,
     "metadata": {},
     "output_type": "execute_result"
    }
   ],
   "source": [
    "allFdrLen"
   ]
  },
  {
   "cell_type": "code",
   "execution_count": 13,
   "metadata": {},
   "outputs": [],
   "source": [
    "# BusPairs = []\n",
    "# for (k,val) in enumerate (allFdrLen[0]):\n",
    "#     BusPairs[]\n",
    "    "
   ]
  },
  {
   "cell_type": "code",
   "execution_count": null,
   "metadata": {},
   "outputs": [],
   "source": []
  },
  {
   "cell_type": "code",
   "execution_count": 14,
   "metadata": {},
   "outputs": [
    {
     "name": "stdout",
     "output_type": "stream",
     "text": [
      "[[0.03278439663835329, 10], [0.04578321834387734, 11], [0.0349189399921025, 10], [0.03921539264003361, 10]]\n",
      "{0.03278439663835329: 10, 0.09873631308111741: 0, 0.04359394310926276: 0, 0.9659629653928166: 0, 1.5241734183386684: 0, 0.9188114500273051: 0, 1.0738137734381852: 0, 0.14019571283663096: 0, 1.0649377074144089: 0, 0.010316959543121191: 0, 5.1728092430679276: 0, 0.0018061520685570258: 0, 2.6484017231092634: 0, 8.49837192362949: 0, 0.04578321834387734: 11, 0.09807953051073307: 0, 0.28422265733383745: 0, 0.8857807599250577: 0, 0.01989503869455997: 0, 0.07914229973131696: 0, 0.18570527177618143: 0, 0.13661077463994958: 0, 0.6543841761350978: 0, 1.6054197143001891: 0, 7.643765723453057: 0, 0.5744764223395086: 0, 15.993516287583114: 0, 0.0349189399921025: 10, 0.08581958919689141: 0, 0.20959573777391305: 0, 0.33758624117756775: 0, 0.272975255816005: 0, 0.013573506454610376: 0, 0.09917416812804032: 0, 0.14186503520302457: 0, 0.5284910416359588: 0, 3.365355281757278: 0, 30.319444075009454: 0, 0.03921539264003361: 10, 0.14372591915244698: 0, 0.20713280313497168: 0, 0.26665372357605543: 0, 1.3566664969502205: 0, 0.3955008075493384: 0, 2.5511959094728: 0, 0.023261049367779875: 0, 0.19309407569300568: 0, 0.39825653111682424: 0, 39.22985827372401: 0}\n"
     ]
    }
   ],
   "source": [
    "df_col = df.iloc[0:n_rows,[1, 2, 4, 23, 24, 27, 25, 26, 27, 33, 36]]\n",
    "#B,C,D,X,Y,AB,Y,Z,AB,AH, AK (TBD)\n",
    "mpt_labels = df_col.iloc[:,10].unique()\n",
    "#--------------------------------------------------------------------------\n",
    "mpt_array = []\n",
    "for (i,data) in enumerate(allFdrLen): #i indicates feeders 1,2,3 of allFdrLen\n",
    "    fd_array = [x[0] for x in allFdrLen[i]]\n",
    "    df_fd = df_col.loc[df['From'].isin(fd_array)] # get the column \"From\"\n",
    "    n_gens = max(df_fd.iloc[:,9])\n",
    "    mpt_labels_temp = df_fd.iloc[:,10].unique()\n",
    "    mpt_array.append([mpt_labels_temp[0], n_gens])\n",
    "print(mpt_array)\n",
    "#-----------------------------------------------------------------------------------\n",
    "mpt_labels_dict = {}\n",
    "for (kk, label) in enumerate(mpt_labels):\n",
    "    n_gens_total = 0\n",
    "    for (k,val) in enumerate(mpt_array):\n",
    "        if val[0] == label:\n",
    "            n_gens_total += val[1]\n",
    "    mpt_labels_dict[label] = n_gens_total\n",
    "print(mpt_labels_dict)\n",
    "    \n",
    "#    sum((df_fd.iloc[:,23])*(df_fd.iloc[:,33]**2))/(n_gens**2)"
   ]
  },
  {
   "cell_type": "code",
   "execution_count": null,
   "metadata": {},
   "outputs": [
    {
     "name": "stdout",
     "output_type": "stream",
     "text": [
      "[0.03278439663835329, 0.03278439663835329, 34.5, 5.00326e-05, 4.37058e-05, 0.000339146, 0.000327844, 0.0001669796, 0.000339146, 0]\n"
     ]
    },
    {
     "ename": "ZeroDivisionError",
     "evalue": "float division by zero",
     "output_type": "error",
     "traceback": [
      "\u001b[1;31m---------------------------------------------------------------------------\u001b[0m",
      "\u001b[1;31mZeroDivisionError\u001b[0m                         Traceback (most recent call last)",
      "Cell \u001b[1;32mIn[15], line 15\u001b[0m\n\u001b[0;32m     10\u001b[0m df_col_temp \u001b[38;5;241m=\u001b[39m df_col[df_col\u001b[38;5;241m.\u001b[39miloc[:,\u001b[38;5;241m10\u001b[39m] \u001b[38;5;241m==\u001b[39m label]\n\u001b[0;32m     11\u001b[0m \u001b[38;5;66;03m#print(df_col)\u001b[39;00m\n\u001b[0;32m     12\u001b[0m \u001b[38;5;66;03m#print('_'*100)\u001b[39;00m\n\u001b[0;32m     13\u001b[0m \u001b[38;5;66;03m#print(df_col_temp)\u001b[39;00m\n\u001b[1;32m---> 15\u001b[0m R1_temp \u001b[38;5;241m=\u001b[39m \u001b[38;5;28;43msum\u001b[39;49m\u001b[43m(\u001b[49m\u001b[43mdf_col_temp\u001b[49m\u001b[38;5;241;43m.\u001b[39;49m\u001b[43miloc\u001b[49m\u001b[43m[\u001b[49m\u001b[43m:\u001b[49m\u001b[43m,\u001b[49m\u001b[38;5;241;43m3\u001b[39;49m\u001b[43m]\u001b[49m\u001b[38;5;241;43m*\u001b[39;49m\u001b[43m(\u001b[49m\u001b[43mdf_col_temp\u001b[49m\u001b[38;5;241;43m.\u001b[39;49m\u001b[43miloc\u001b[49m\u001b[43m[\u001b[49m\u001b[43m:\u001b[49m\u001b[43m,\u001b[49m\u001b[38;5;241;43m9\u001b[39;49m\u001b[43m]\u001b[49m\u001b[38;5;241;43m*\u001b[39;49m\u001b[38;5;241;43m*\u001b[39;49m\u001b[38;5;241;43m2\u001b[39;49m\u001b[43m)\u001b[49m\u001b[43m)\u001b[49m\u001b[38;5;241;43m/\u001b[39;49m\u001b[43m(\u001b[49m\u001b[43mn_gens\u001b[49m\u001b[38;5;241;43m*\u001b[39;49m\u001b[38;5;241;43m*\u001b[39;49m\u001b[38;5;241;43m2\u001b[39;49m\u001b[43m)\u001b[49m\n\u001b[0;32m     16\u001b[0m R1_temp \u001b[38;5;241m=\u001b[39m \u001b[38;5;28mfloat\u001b[39m(\u001b[38;5;124m\"\u001b[39m\u001b[38;5;132;01m{:.10f}\u001b[39;00m\u001b[38;5;124m\"\u001b[39m\u001b[38;5;241m.\u001b[39mformat(R1_temp))\n\u001b[0;32m     17\u001b[0m \u001b[38;5;66;03m####### didn't get this equation of R #######\u001b[39;00m\n",
      "\u001b[1;31mZeroDivisionError\u001b[0m: float division by zero"
     ]
    }
   ],
   "source": [
    "#calculation of equivalent collector system\n",
    "Vrms_collection = df_col.iloc[0,2]\n",
    "Vrms_MV = Vrms_collection\n",
    "colPIdata = []\n",
    "colPI_dict = {}\n",
    "for (label, val) in mpt_labels_dict.items():\n",
    "    #print(label)\n",
    "    #print(val)\n",
    "    n_gens = val\n",
    "    df_col_temp = df_col[df_col.iloc[:,10] == label]\n",
    "    #print(df_col)\n",
    "    #print('_'*100)\n",
    "    print(df_col_temp)\n",
    "    \n",
    "    R1_temp = sum(df_col_temp.iloc[:,3]*(df_col_temp.iloc[:,9]**2))/(n_gens**2)\n",
    "    R1_temp = float(\"{:.10f}\".format(R1_temp))\n",
    "    ####### didn't get this equation of R #######\n",
    "    \n",
    "    X1_temp = sum(df_col_temp.iloc[:,4]*(df_col_temp.iloc[:,9]**2))/(n_gens**2)\n",
    "    X1_temp = float(\"{:.10f}\".format(X1_temp))\n",
    "    \n",
    "    B1_temp = sum(df_col_temp.iloc[:,5])\n",
    "    B1_temp = float(\"{:.10f}\".format(B1_temp))\n",
    "    \n",
    "    R0_temp = sum(df_col_temp.iloc[:,6]*(df_col_temp.iloc[:,9]**2))/(n_gens**2)\n",
    "    R0_temp = float(\"{:.10f}\".format(R0_temp))\n",
    "    \n",
    "    X0_temp = sum(df_col_temp.iloc[:,7]*(df_col_temp.iloc[:,9]**2))/(n_gens**2)\n",
    "    X0_temp = float(\"{:.10f}\".format(X0_temp))\n",
    "    \n",
    "    B0_temp = sum(df_col_temp.iloc[:,8])\n",
    "    B0_temp = float(\"{:.10f}\".format(B0_temp))\n",
    "\n",
    "    \n",
    "    line = [label, label, Vrms_collection, R1_temp, X1_temp, B1_temp, R0_temp, X0_temp, B0_temp, 0] # '0' is for the cable length concept\n",
    "    print(line)\n",
    "    #eqvPIdata[i] = P2P.usr_LineData(line, eqvPIdata[i])\n",
    "    colPItemp = P2P.usr_LineData(line, PIattr.copy(), PIpara.copy()) # .copy() to avoid mutual editable of the dictionaries\n",
    "    colPIdata.append(colPItemp)\n",
    "    colPI_dict[label] = colPItemp"
   ]
  },
  {
   "cell_type": "code",
   "execution_count": null,
   "metadata": {},
   "outputs": [],
   "source": [
    "mpt_labels_dict"
   ]
  },
  {
   "cell_type": "markdown",
   "metadata": {},
   "source": [
    "### Read data for overhead line"
   ]
  },
  {
   "cell_type": "code",
   "execution_count": null,
   "metadata": {},
   "outputs": [],
   "source": [
    "xldataframe = pd.ExcelFile(file_name)\n",
    "sheetname = '3 OH line impedance'\n",
    "df = xldataframe.parse(sheetname)\n",
    "\n",
    "#transimission line parameters\n",
    "\n",
    "R1t = df.iloc[0, 29]\n",
    "R1t = float(\"{:.10f}\".format(R1t))\n",
    "X1t = df.iloc[0, 30]\n",
    "X1t = float(\"{:.10f}\".format(X1t))\n",
    "B1t = df.iloc[0, 35] \n",
    "B1t = float(\"{:.10f}\".format(B1t))\n",
    "\n",
    "R0t = df.iloc[0, 31]\n",
    "R0t = float(\"{:.10f}\".format(R0t))\n",
    "X0t = df.iloc[0, 32]\n",
    "X0t = float(\"{:.10f}\".format(X0t))\n",
    "B0t = df.iloc[0, 36] \n",
    "B0t = float(\"{:.10f}\".format(B0t))"
   ]
  },
  {
   "cell_type": "markdown",
   "metadata": {},
   "source": [
    "### Update data for transformer"
   ]
  },
  {
   "cell_type": "code",
   "execution_count": null,
   "metadata": {},
   "outputs": [],
   "source": [
    "# Read the transformer data (initialize variables)\n",
    "sheets = xldataframe.sheet_names\n",
    "#print(sheets)\n",
    "\n",
    "# Find the index of the sheet that has XFMR data\n",
    "XFMR_idx = [i for (i, item) in enumerate(sheets) if re.search('XFMR', item)]\n",
    "df = xldataframe.parse(sheets[XFMR_idx[0]])\n",
    "#df = xldataframe.parse(sheets[1])\n",
    "\n",
    "# Find the sheet of collection system using Regex in Python\n",
    "col_sys_idx = [i for (i, item) in enumerate(sheets) if re.search(r\"\\bcollection\\b.*\\bimpedance\\b|\\bimpedance\\b.*\\bcollection\\b\", item)]\n",
    "#find sheet names that contain the words 'collection' and 'impedance,' but not necessarily in that order\n",
    "#print(col_sys_idx)\n",
    "sheets[col_sys_idx[0]]\n",
    "\n",
    "xfmr_type = []\n",
    "#xfmr_dicts = {}\n",
    "i = 3\n",
    "cnt = 3\n",
    "while not pd.isnull(df.iloc[2,i]):\n",
    "    print('tl',df.iloc[2,i])\n",
    "    xfmr_type.append((i, df.iloc[2,i]))\n",
    "    i += 1\n",
    "#print(xfmr_type)\n",
    "xfmr_3w = []\n",
    "xfmr_2wdg = []\n",
    "xfmr_3wdg = []\n",
    "for (k, val) in enumerate(xfmr_type):\n",
    "    if 'TER' in val[1].upper():\n",
    "        xfmr_3w.append((val[0], val[1]))\n",
    "\n",
    "for (k, val) in enumerate(xfmr_3w):\n",
    "    if k%2 == 1:\n",
    "        idx = xfmr_type.index(val)\n",
    "        temp = xfmr_type[(idx - 5):(idx + 1)]\n",
    "        xfmr_3wdg.append(temp)\n",
    "        \n",
    "set_3wdg = set() \n",
    "for (k, val) in enumerate(xfmr_3wdg):\n",
    "    set_3wdg.update(set(val))\n",
    "\n",
    "set_3wdg = sorted(set_3wdg)\n",
    "set_2wdg = sorted(set(xfmr_type) - set(set_3wdg))\n",
    "\n",
    "for (k, val) in enumerate(set_2wdg):\n",
    "    if k%2 == 1:\n",
    "        xfmr_2wdg.append(set_2wdg[k-1:k+1])\n",
    "#print(xfmr_2wdg)"
   ]
  },
  {
   "cell_type": "code",
   "execution_count": null,
   "metadata": {},
   "outputs": [],
   "source": [
    "#reading\n",
    "MPTs = []\n",
    "W3attr = {}\n",
    "W3Trans = {}\n",
    "for (k, val) in enumerate(xfmr_3wdg):\n",
    "    i = val[0][0]\n",
    "    #print(i)\n",
    "    #while (df.iloc[3,i]) > 0:\n",
    "    print(\"moving along\", i)\n",
    "    WVs = [(df.iloc[3,i]), (df.iloc[3,i+1]), (df.iloc[3,i+3])]\n",
    "    #print(WVs)\n",
    "    Rs = [(df.iloc[10,i]), (df.iloc[10,i+2]), (df.iloc[10,i+4])] #Might change to just the first one\n",
    "    #print(Rs)\n",
    "    Xs = [(df.iloc[11,i]), (df.iloc[11,i+2]), (df.iloc[11,i+4])]\n",
    "    #print(Xs)\n",
    "    MVA = [(df.iloc[12,i])]\n",
    "    #print(MVA)\n",
    "    line = [WVs, Rs, Xs, MVA]\n",
    "    MPTdata = P2P.usr_MPTmkr(line, W3attr.copy(), W3Trans.copy())\n",
    "    MPTs.append(MPTdata)\n",
    "    \n",
    "W2attr = {}\n",
    "W2Trans = {}\n",
    "for (k, val) in enumerate(xfmr_2wdg):\n",
    "    i = val[0][0]\n",
    "    WVs = [(df.iloc[3,i]), (df.iloc[3,i+1])]\n",
    "    Rs = [(df.iloc[10,i])] #Might change to just the first one\n",
    "    Xs = [(df.iloc[11,i])]\n",
    "    MVA = [(df.iloc[12,i])]\n",
    "    #print(MVA)\n",
    "    line = [WVs, Rs, Xs, MVA]\n",
    "    MPTdata = P2P.usr_MPTmkr_TwoWt_excel(line, W2attr.copy(), W2Trans.copy())\n",
    "    MPTs.append(MPTdata)\n",
    "print(MPTdata)"
   ]
  },
  {
   "cell_type": "code",
   "execution_count": null,
   "metadata": {},
   "outputs": [],
   "source": [
    "# Add more xfmr if data in the collection system sheet and xfmr sheet dosen't match\n",
    "if len(MPTs) < len(mpt_labels_dict):\n",
    "    for i in range(0, (len(mpt_labels_dict) - len(MPTs))):\n",
    "        MPTs.append(MPTs[-1])\n",
    "\n",
    "Vrms_HV = df.iloc[3,3]\n",
    "Vrms_LV = df.iloc[3, 2]"
   ]
  },
  {
   "cell_type": "code",
   "execution_count": null,
   "metadata": {},
   "outputs": [],
   "source": [
    "#read GSU data\n",
    "GSUres = df.iloc[10, 1]\n",
    "GSUres = float(\"{:.10f}\".format(GSUres))\n",
    "GSUrect = df.iloc[11, 1]\n",
    "GSUrect = float(\"{:.10f}\".format(GSUrect))\n",
    "GSUmva = df.iloc[12, 1]\n",
    "\n",
    "GSUHV = df.iloc[3, 1]\n",
    "\n",
    "GSULV = df.iloc[3, 2]\n",
    "\n",
    "GSUfreq = Freq"
   ]
  },
  {
   "cell_type": "code",
   "execution_count": null,
   "metadata": {},
   "outputs": [],
   "source": [
    "GSUres"
   ]
  },
  {
   "cell_type": "markdown",
   "metadata": {},
   "source": [
    "### read data xfmr"
   ]
  },
  {
   "cell_type": "markdown",
   "metadata": {},
   "source": [
    "## Choosing type of study"
   ]
  },
  {
   "cell_type": "code",
   "execution_count": null,
   "metadata": {},
   "outputs": [],
   "source": [
    "for i in range(0, (len(mpt_labels_dict) - len(MPTs))):\n",
    "    print('tine')"
   ]
  },
  {
   "cell_type": "code",
   "execution_count": null,
   "metadata": {},
   "outputs": [],
   "source": [
    "all_feeder_len = []\n",
    "for (kk,feeder) in enumerate(allFdrLen):\n",
    "    PImpt, MPTbus, genbus, juncbus, endbus, longest_fdr, longest_bus, longest_len, longest_weight = ss.usr_get_feeder_info(feeder)\n",
    "#     print(longest_fdr)\n",
    "#     print(genbus)\n",
    "    all_feeder_len.append(len(longest_fdr))\n",
    "print(all_feeder_len)\n",
    "n_bus_max = max(all_feeder_len)\n",
    "# print(n_bus_max)"
   ]
  },
  {
   "cell_type": "code",
   "execution_count": null,
   "metadata": {},
   "outputs": [],
   "source": [
    "#get project data from an excel file\n",
    "prj_infor_files = utils.get_all_file_names(project_infor_dir, \".xlsx\")"
   ]
  },
  {
   "cell_type": "code",
   "execution_count": null,
   "metadata": {},
   "outputs": [],
   "source": [
    "#get project data from an excel file\n",
    "prj_infor_files = utils.get_all_file_names(project_infor_dir, \".xlsx\")\n",
    "prj_infor_name = project_infor_dir + \"\\\\\" + prj_infor_files[0] + '.xlsx'\n",
    "#wb2 = xlrd.open_workbook(prj_infor_name)\n",
    "\n",
    "xldataframe = pd.ExcelFile(prj_infor_name)\n",
    "prj_infor_sheets = xldataframe.sheet_names\n",
    "\n",
    "df2 = xldataframe.parse(prj_infor_sheets[0])\n",
    "\n",
    "#study_flag = int(input())\n",
    "#1 for Harmonic study and 2 for TOV study\n",
    "study_type = df2.iloc[17, 1].lower()\n",
    "study_type.lower()\n",
    "if re.search(\"^harmonic\", study_type): \n",
    "    study_flag = 1\n",
    "if re.search(\"^tov\", study_type): \n",
    "    study_flag = 2\n",
    "else:\n",
    "    print(\"other study type has been chosen\")\n",
    "    \n",
    "#Voltage source parameters for strong grid\n",
    "R1s = df2.iloc[6, 1]\n",
    "L1s = df2.iloc[7, 1]\n",
    "R0s = df2.iloc[8, 1]\n",
    "L0s = df2.iloc[9, 1]\n",
    "\n",
    "#Voltage source parameters for weak grid\n",
    "R1w = df2.iloc[12, 1]\n",
    "L1w = df2.iloc[13, 1]\n",
    "R0w = df2.iloc[14, 1]\n",
    "L0w = df2.iloc[15, 1]\n",
    "\n",
    "#email_infor\n",
    "generate_email_flag = df2.iloc[19, 1].lower()\n",
    "email_address = df2.iloc[20, 1]\n",
    "\n",
    "#gen Type\n",
    "project_type = df2.iloc[1,2].lower()\n",
    "\n",
    "##TOV/TRV arrester data\n",
    "if study_flag == 2: \n",
    "    df2 = xldataframe.parse(prj_infor_sheets[1])\n",
    "    Varr_hv = df2.iloc[0,2]\n",
    "    Varr_mpthv = df2.iloc[1,2]\n",
    "    Varr_mptmv = df2.iloc[2,2]\n",
    "    Varr_mv = df2.iloc[3,2]\n",
    "    Varr_elbow = df2.iloc[4,2]"
   ]
  },
  {
   "cell_type": "code",
   "execution_count": null,
   "metadata": {},
   "outputs": [],
   "source": [
    "PSCADlibs_dir = working_dir + \"\\\\\" + \"PSCADlibs\"\n",
    "all_lib_files = utils.get_all_file_names(PSCADlibs_dir, \".pslx\")"
   ]
  },
  {
   "cell_type": "markdown",
   "metadata": {},
   "source": [
    "# 2. Start PSCAD"
   ]
  },
  {
   "cell_type": "code",
   "execution_count": null,
   "metadata": {},
   "outputs": [],
   "source": [
    "versions = mhi.pscad.versions()\n",
    "\n",
    "# Skip any 'Alpha' versions, if other choices exist\n",
    "vers = [(ver, x64) for ver, x64 in versions if ver != 'Alpha']\n",
    "if len(vers) > 0:\n",
    "    versions = vers\n",
    "\n",
    "# Skip any 'Beta' versions, if other choices exist\n",
    "vers = [(ver, x64) for ver, x64 in versions if ver != 'Beta']\n",
    "if len(vers) > 0:\n",
    "    versions = vers\n",
    "# Skip any 32-bit versions, if other choices exist\n",
    "vers = [(ver, x64) for ver, x64 in versions if x64]\n",
    "if len(vers) > 0:\n",
    "    versions = vers\n",
    "\n",
    "\n",
    "# Of any remaining versions, choose the \"lexically largest\" one.\n",
    "version, x64 = sorted(versions)[-1]\n"
   ]
  },
  {
   "cell_type": "code",
   "execution_count": null,
   "metadata": {},
   "outputs": [],
   "source": [
    "# Get all installed FORTRAN compiler versions\n",
    "fortrans = mhi.pscad.fortran_versions()\n",
    "\n",
    "# Skip 'GFortran' compilers, if other choices exist\n",
    "vers = [ver for ver in fortrans if 'GFortran' not in ver]\n",
    "if len(vers) > 0:\n",
    "    fortrans = vers\n",
    "    \n",
    "# Order the remaining compilers, choose the last one (highest revision)\n",
    "#fortran = sorted(fortrans)[-1]\n",
    "\n",
    "# Launch PSCAD\n",
    "#settings = {'fortran_version': fortran}\n",
    "#pscad = mhi.pscad.launch(minimize=True, version=version, x64=x64, settings=settings)\n",
    "# Launch PSCAD\n",
    "if len(fortrans) > 0:\n",
    "    fortran = sorted(fortrans)[-1]\n",
    "    settings = {'fortran_version': fortran}\n",
    "    pscad = mhi.pscad.launch(minimize=True, version=version, x64=x64, settings=settings)\n",
    "else: \n",
    "    pscad = mhi.pscad.launch(minimize=True, version=version, x64=x64)\n",
    "    \n",
    "    fortran = ''"
   ]
  },
  {
   "cell_type": "code",
   "execution_count": null,
   "metadata": {},
   "outputs": [],
   "source": [
    "# Select the corresponding extension\n",
    "\n",
    "if (re.match('Intel 12',fortran)):\n",
    "    fortran_ext = '.if12'\n",
    "    print('Fortran 12 32-bit')\n",
    "\n",
    "elif (re.match('Intel 15',fortran)):\n",
    "    if(re.search(r'([0-9]+)-([\\w.-]+)', fortran)):\n",
    "        fortran_ext = '.if15'\n",
    "        print('Fortran 15 64-bit')\n",
    "    else:\n",
    "        fortran_ext = '.if15_x86'\n",
    "        print('Fortran 15 32-bit')\n",
    "\n",
    "# Fortran 17 has same extension as Fortran 15            \n",
    "elif (re.match('Intel 17',fortran)):\n",
    "    if(re.search(r'([0-9]+)-([\\w.-]+)', fortran)):\n",
    "        fortran_ext = '.if15'\n",
    "        print('Fortran 17 64-bit')\n",
    "    else:\n",
    "        fortran_ext = '.if15_x86'\n",
    "        print('Fortran 17 32-bit')\n",
    "        \n",
    "elif (re.match('Intel 19',fortran)):\n",
    "    if(re.search(r'([0-9]+)-([\\w.-]+)', fortran)):\n",
    "        fortran_ext = '.if18'\n",
    "        print('Fortran 19 64-bit')\n",
    "    else:\n",
    "        fortran_ext = '.if18_x86'\n",
    "        print('Fortran 19 32-bit')\n",
    "    \n",
    "else:\n",
    "    fortran_ext = '.gf46'\n",
    "    print('GFortran')\n",
    "    "
   ]
  },
  {
   "cell_type": "code",
   "execution_count": null,
   "metadata": {},
   "outputs": [],
   "source": [
    "fortran_ext = '.if18_x86'"
   ]
  },
  {
   "cell_type": "code",
   "execution_count": null,
   "metadata": {},
   "outputs": [],
   "source": [
    "PSCAD_file_name = raw_files[0]\n",
    "file_len = 10 # PSCAD file name is limitted by 10 characters\n",
    "if(len(raw_files[0]) > file_len):\n",
    "    PSCAD_file_name = raw_files[0][0:file_len]\n",
    "\n",
    "#Setup up PSCAD\n",
    "project_name = 'MainProject'\n",
    "folder = os.getcwd()\n",
    "pscad.new_workspace(project_name, working_dir + \"\\\\\" + \"PSCADprj\")"
   ]
  },
  {
   "cell_type": "markdown",
   "metadata": {},
   "source": [
    "### load library"
   ]
  },
  {
   "cell_type": "code",
   "execution_count": null,
   "metadata": {},
   "outputs": [],
   "source": [
    "#load all library in PSCADlibs\n",
    "for (kk,ext_lib) in enumerate(all_lib_files):\n",
    "    pscad.load(working_dir + \"\\\\\" + \"PSCADlibs\" + \"\\\\\" + ext_lib + \".pslx\")"
   ]
  },
  {
   "cell_type": "code",
   "execution_count": null,
   "metadata": {
    "scrolled": true
   },
   "outputs": [],
   "source": [
    "pscad.create_case(PSCAD_file_name, working_dir + \"\\\\\" + \"PSCADprj\") \n",
    "project = pscad.project(PSCAD_file_name)\n",
    "main = project.canvas('Main')\n",
    "time.sleep(1)  \n",
    "\n",
    "project.create_layer(\"Disable\")\n",
    "project.set_layer_state(\"Disable\", \"Disabled\")\n",
    "#\n",
    "project.create_layer(\"PIfdr\")\n",
    "project.set_layer_state(\"PIfdr\", \"Enabled\")\n",
    "#\n",
    "project.create_layer(\"eqvPI\")\n",
    "project.set_layer_state(\"eqvPI\", \"Disabled\")\n",
    "#\n",
    "project.create_layer(\"Breaker\")\n",
    "project.set_layer_state(\"Breaker\", \"Enabled\")\n",
    "#\n",
    "project.create_layer(\"Arrester\")\n",
    "project.set_layer_state(\"Arrester\", \"Enabled\")\n",
    "#\n",
    "project.create_layer(\"Multimeter\")\n",
    "project.set_layer_state(\"Multimeter\", \"Enabled\")\n",
    "#\n",
    "\n",
    "project.parameters(time_duration = 20, time_step = 100, sample_step = 300)\n",
    "sim_set = \"sim\"\n",
    "pscad.create_simulation_set(sim_set)\n",
    "simset = pscad.simulation_set(sim_set)\n",
    "#simset.add_tasks(PSCAD_file_name)"
   ]
  },
  {
   "cell_type": "code",
   "execution_count": null,
   "metadata": {},
   "outputs": [],
   "source": [
    "main.parameters(size = '100X100')\n",
    "#frozenset({'100X100', '11X17', '17X22', '22X34', '34X44', '85X11'})"
   ]
  },
  {
   "cell_type": "code",
   "execution_count": null,
   "metadata": {},
   "outputs": [],
   "source": [
    "main.parameters(show_grid = 1)"
   ]
  },
  {
   "cell_type": "code",
   "execution_count": null,
   "metadata": {},
   "outputs": [],
   "source": [
    "#Save simuilation output\n",
    "project.parameters(PlotType=\"1\", output_filename=\"$(Namespace).out\")\n"
   ]
  },
  {
   "cell_type": "code",
   "execution_count": null,
   "metadata": {},
   "outputs": [],
   "source": [
    "MPTs"
   ]
  },
  {
   "cell_type": "markdown",
   "metadata": {},
   "source": [
    "### Generate collection system"
   ]
  },
  {
   "cell_type": "code",
   "execution_count": null,
   "metadata": {},
   "outputs": [],
   "source": [
    "dictLabel = {}\n",
    "dictOutChannel = {}\n",
    "buslv_dict = {}\n",
    "IIDcolPI = {}\n",
    "resitor = 1e7"
   ]
  },
  {
   "cell_type": "markdown",
   "metadata": {},
   "source": [
    "### Add LV bus and multimeter"
   ]
  },
  {
   "cell_type": "code",
   "execution_count": null,
   "metadata": {},
   "outputs": [],
   "source": [
    "x_busLV = 50\n",
    "multiLV_dict = {}\n",
    "for (i,(k,val)) in enumerate(colPI_dict.items()):\n",
    "    IID_list_bus = []\n",
    "    IID_list_col = []\n",
    "    IID_list_multi = []\n",
    "#    print(i)\n",
    "    p = val\n",
    "    bus = main.create_bus((x_busLV, (i + 1)*20 - 2), (x_busLV, (i + 1)*20 + 2))\n",
    "    name = \"busLV\" + str(i+1)\n",
    "    bus.parameters(Name = name, BaseKV = Vrms_collection)\n",
    "    bus.parameters(Name = name, BaseKV = Vrms_collection)\n",
    "    IID_list_bus.append(bus.iid)\n",
    "    buslv_dict[k] = IID_list_bus\n",
    "    x_busLV, y_busLV = bus.get_location()\n",
    "    \n",
    "    mult_obj = main.add_component('master','multimeter', x_busLV + 6, y_busLV + 2)\n",
    "    mult_obj.parameters(Name = 'mult_LV' + str(i+1))\n",
    "    mult_obj.parameters(MeasP = 1, MeasQ = 1 , RMS = 1, BaseV = 'Vrms_LV', P = 'PLV_' + str(i+1), Q = 'QLV_' + str(i+1), Vrms = 'VLV_' + str(i+1))\n",
    "    x_mult, y_mult = mult_obj.get_location()\n",
    "    IID_list_multi.append(mult_obj.iid)\n",
    "    multiLV_dict[k] = IID_list_multi\n",
    "    main.create_wire((x_busLV, y_mult), (x_mult - 1, y_mult))\n",
    "    \n",
    "    CMP = main.add_component('master', 'resistor', x_mult - 2 , y_mult + 2) \n",
    "    CMP.parameters(R = resitor)\n",
    "    CMP.rotate_right()\n",
    "    ground = main.add_component('master', 'ground', x_mult -2  ,  y_mult + 4) \n",
    "    ground.rotate_right()\n",
    "    #creat wire\n",
    "    main.create_wire((x_mult - 2 , y_mult + 2), (x_mult - 2, y_mult))\n"
   ]
  },
  {
   "cell_type": "markdown",
   "metadata": {},
   "source": [
    "## Add GSU transformer"
   ]
  },
  {
   "cell_type": "code",
   "execution_count": null,
   "metadata": {},
   "outputs": [],
   "source": [
    "GSU_dict = {}\n",
    "\n",
    "for (k,val) in multiLV_dict.items():\n",
    "    print(k)\n",
    "    GSU_list =[]\n",
    "    obj = main.component(val[0])\n",
    "    multi_LV= obj.get_location()\n",
    "    for (kk,ext_lib) in enumerate(all_lib_files):\n",
    "        try:\n",
    "            GENxfmr = main.add_component(ext_lib, 'Electranix_Scale_1', 5, 4)\n",
    "            TOV_lib = ext_lib\n",
    "            GENxfmr.parameters(V1 = GSUHV)  \n",
    "            break\n",
    "        except:\n",
    "            GENxfmr.delete()\n",
    "    GENxfmr.delete() \n",
    "    GSU_trans = main.add_component(ext_lib, 'xfmr_2w_scaled', multi_LV[0] + 10, multi_LV[1])\n",
    "    GSU_trans.parameters(Name=\"GSU_trans_\" + str(k), Tmva=GSUmva, f=GSUfreq, YD1=\"1\", YD2=\"0\", Lead=\"2\", Xl=GSUrect, Ideal=\"0\", NLL=\"0.0 [pu]\", CuL=\"0.0 [pu]\", \n",
    "                         Tap=\"0\", View=\"1\", Dtls=\"0\", V1=GSUHV, V2=GSULV, Enab=\"0\", Sat=\"1\", Xair=\"0.2 [pu]\", Tdc=\"1.0 [s]\", Xknee=\"1.25 [pu]\", Txk=\"0.1 [s]\", Im1=\"0.4 [%]\")\n",
    "    GSU_trans.mirror()\n",
    "    GSU_list.append(GSU_trans.iid)\n",
    "    GSU_dict[k] = GSU_list\n",
    "    GSU_trans.add_to_layer(\"TOVTRV\")\n",
    "    GSU_transloc = GSU_trans.get_location()\n",
    "    main.create_wire((GSU_transloc[0] - 2, GSU_transloc[1]), (multi_LV[0] + 1, multi_LV[1]))\n",
    "    \n",
    "    CMP = main.add_component('master', 'resistor', GSU_transloc[0] , GSU_transloc[1] + 4) \n",
    "    CMP.parameters(R = resitor)\n",
    "    CMP.rotate_right()\n",
    "    ground = main.add_component('master', 'ground', GSU_transloc[0] , GSU_transloc[1] + 6) \n",
    "    ground.rotate_right()\n",
    "    #creat wire\n",
    "    main.create_wire((GSU_transloc[0] , GSU_transloc[1] + 2), (GSU_transloc[0] , GSU_transloc[1] + 4))\n"
   ]
  },
  {
   "cell_type": "code",
   "execution_count": null,
   "metadata": {},
   "outputs": [],
   "source": [
    "GSU_list"
   ]
  },
  {
   "cell_type": "markdown",
   "metadata": {},
   "source": [
    "### Add numbers genorator on GSU transformer"
   ]
  },
  {
   "cell_type": "code",
   "execution_count": null,
   "metadata": {},
   "outputs": [],
   "source": [
    "for (label, val) in mpt_labels_dict.items():\n",
    "    for (i, gsu_loc) in GSU_dict.items():\n",
    "        if i == label:\n",
    "            obj = main.component(gsu_loc[0])\n",
    "            gsuloc= obj.get_location()\n",
    "            tap_obj = main.add_component('master', 'const',  gsuloc[0] - 1, gsuloc[1] - 2)\n",
    "            tap_obj.parameters(Value = val)"
   ]
  },
  {
   "cell_type": "markdown",
   "metadata": {},
   "source": [
    "### Add Mutimeter MV in the left PI"
   ]
  },
  {
   "cell_type": "code",
   "execution_count": null,
   "metadata": {},
   "outputs": [],
   "source": [
    "multimv_dict = {}\n",
    "for (i, (k,val)) in enumerate(GSU_dict.items()):\n",
    "    multimv_dict_list = []\n",
    "    obj = main.component(val[0])\n",
    "    gsuloc= obj.get_location()\n",
    "    # Add multimeter\n",
    "    mult_obj = main.add_component('master','multimeter',gsuloc[0] + 8, gsuloc[1])\n",
    "    mult_obj.parameters(Name = 'mult_xfmrMV' + str(i + 1) )\n",
    "    mult_obj.parameters(MeasP = 1, MeasQ = 1 , RMS = 1, BaseV = 'Vrms_MV', P = 'PMV' + str(i +1), Q = 'QMV' + str(i +1), Vrms = 'VMV'+ str(i +1))\n",
    "    mult_obj.add_to_layer(\"Multimeter\")\n",
    "    multimv_dict_list = mult_obj.iid\n",
    "    multimv_dict[k] = multimv_dict_list\n",
    "    main.create_wire((gsuloc[0] + 4, gsuloc[1]), (gsuloc[0] + 7, gsuloc[1]))\n",
    "    "
   ]
  },
  {
   "cell_type": "markdown",
   "metadata": {},
   "source": [
    "### Add equivalent PI section"
   ]
  },
  {
   "cell_type": "code",
   "execution_count": null,
   "metadata": {},
   "outputs": [],
   "source": [
    "for (k,val) in multimv_dict.items():\n",
    "    print(val)\n",
    "    IID_list_col = []\n",
    "    p = colPI_dict[k]\n",
    "    obj = main.component(val)\n",
    "    GSU_transloc= obj.get_location()\n",
    "    colPIcmp = main.add_component(p[0]['Lib'], p[0]['CType'], GSU_transloc[0] + 10, GSU_transloc[1])\n",
    "    colPIcmp.parameters(**p[1])\n",
    "#    print(**p[1])\n",
    "    colPIcmp.add_to_layer(\"colPI\")\n",
    "    x_colPI, y_colPI = colPIcmp.get_location()\n",
    "    IID_list_col.append(colPIcmp.iid)\n",
    "    IIDcolPI[k] = IID_list_col\n",
    "    \n",
    "    main.create_wire((GSU_transloc[0] + 1, GSU_transloc[1]), (x_colPI - 2, y_colPI))"
   ]
  },
  {
   "cell_type": "markdown",
   "metadata": {},
   "source": [
    "### Add MPTs"
   ]
  },
  {
   "cell_type": "code",
   "execution_count": null,
   "metadata": {},
   "outputs": [],
   "source": [
    "# Add MPTs\n",
    "condinate_MPT = {}\n",
    "MPT_dict = {}\n",
    "multi_dict = {}\n",
    "\n",
    "for (i, (k, val) ) in enumerate(IIDcolPI.items()):\n",
    "    t = MPTs[i]\n",
    "    temp = MPTs[i][0]['CType']\n",
    "    multi_list = []\n",
    "    # Add transformer \n",
    "    Numb = i + 1 \n",
    "    mpt_name = 'T' + str(Numb)\n",
    "    obj = main.component(val[0])\n",
    "    PI_loc= obj.get_location()\n",
    "    Xt =  PI_loc[0] + 30\n",
    "    Yt =  PI_loc[1] + 0\n",
    "    MPTcmp = main.add_component(t[0]['Lib'], t[0]['CType'], Xt, Yt)\n",
    "    MPTcmp.parameters(**t[1])\n",
    "    MPTcmp.parameters(Name = mpt_name)\n",
    "    Xmpt, Ympt = MPTcmp.get_location()\n",
    "#   Comdinate_list.append(MPTcmp)\n",
    "    condinate_MPT[Numb] = Ympt\n",
    "    MPT_dict.update({mpt_name:MPTcmp.iid})\n",
    "    if temp == 'xfmr-3p3w2':\n",
    "        label_obj = main.add_component('master', 'datalabel', Xmpt - 3,  Ympt - 1)\n",
    "        label_name = 'Tap' + str(Numb)\n",
    "        label_obj.parameters(Name = label_name)\n",
    "\n",
    "        # Add ground and resistor for transfomer\n",
    "        main.add_component('master', 'ground', Xmpt + 2, Ympt + 2)\n",
    "\n",
    "        CMP = main.add_component('master', 'resistor', Xmpt + 4, Ympt) \n",
    "        CMP.parameters(R = 1e6) \n",
    "\n",
    "\n",
    "        main.add_component('master', 'ground', Xmpt + 8, Ympt) \n",
    "        #creat wire\n",
    "        main.create_wire((Xmpt + 3, Ympt), (Xmpt + 4, Ympt))\n",
    "        main.create_wire((Xmpt + 6, Ympt), (Xmpt + 8, Ympt))\n",
    "        main.create_wire((Xmpt - 1,Ympt + 2),(Xmpt, Ympt + 2), (Xmpt, Ympt + 2), (Xmpt + 2, Ympt + 2))\n",
    "\n",
    "        # Add multimeter\n",
    "        mult_obj = main.add_component('master','multimeter',Xmpt + 16, Ympt)\n",
    "        mult_obj.parameters(Name = 'mult_xfmrHV_' + str(Numb) )\n",
    "        mult_obj.parameters(MeasP = 1, MeasQ = 1 , RMS = 1, BaseV = 'Vrms_HV', P = 'PHV_' + str(Numb), Q = 'QHV_' + str(Numb), Vrms = 'VHV_'+ str(Numb))\n",
    "        mult_obj.add_to_layer(\"Multimeter\")\n",
    "        multi_list = mult_obj.iid\n",
    "        multi_dict[k] = multi_list\n",
    "        x_mult, y_mult = mult_obj.get_location()\n",
    "        main.create_wire((Xmpt, Ympt - 4),(x_mult - 4, y_mult - 4), (x_mult -1, y_mult)) # creat wire for multimeter 1\n",
    "\n",
    "        mult_obj = main.add_component('master','multimeter',Xmpt - 10, Ympt)\n",
    "        mult_obj.parameters(Name = 'mult_xfmrMV_' + str(Numb))\n",
    "        mult_obj.parameters(MeasP = 1, MeasQ = 1 , RMS = 1, BaseV = 'Vrms_MV', P = 'PMV_' + str(Numb), Q = 'QMV_' + str(Numb), Vrms = 'VMV_' + str(Numb), VolI=\"Vmv\"+str(Numb) , CurI=\"Imv\" + str(Numb))\n",
    "        mult_obj.add_to_layer(\"Multimeter\")\n",
    "        x_mult, y_mult = mult_obj.get_location()\n",
    "        main.create_wire((Xmpt - 3, Ympt), (Xmpt - 9, Ympt)) # creat wire for multimeter 2\n",
    "\n",
    "        main.create_wire((PI_loc[0] + 4, PI_loc[1]), (x_mult - 1, y_mult)) # creat wire for multimeter\n",
    "    if temp == 'xfmr-3p2w':\n",
    "        label_obj = main.add_component('master', 'datalabel', Xmpt - 3,  Ympt - 1)\n",
    "        label_name = 'Tap' + str(Numb)\n",
    "        label_obj.parameters(Name = label_name)\n",
    "\n",
    "        # Add ground and resistor for transfomer\n",
    "        ground = main.add_component('master', 'ground', Xmpt - 1, Ympt + 4)\n",
    "        ground.rotate_right()\n",
    "\n",
    "        CMP = main.add_component('master', 'resistor', Xmpt - 1, Ympt +2) \n",
    "        CMP.parameters(R = 1e6) \n",
    "        CMP.rotate_right()\n",
    "\n",
    "#         main.add_component('master', 'ground', Xmpt + 8, Ympt) \n",
    "#         #creat wire\n",
    "#         main.create_wire((Xmpt + 3, Ympt), (Xmpt + 4, Ympt))\n",
    "#         main.create_wire((Xmpt + 6, Ympt), (Xmpt + 8, Ympt))\n",
    "#         main.create_wire((Xmpt - 1,Ympt + 2),(Xmpt, Ympt + 2), (Xmpt, Ympt + 2), (Xmpt + 2, Ympt + 2))\n",
    "\n",
    "        # Add multimeter\n",
    "        mult_obj = main.add_component('master','multimeter',Xmpt + 16, Ympt)\n",
    "        mult_obj.parameters(Name = 'mult_xfmrHV_' + str(Numb) )\n",
    "        mult_obj.parameters(MeasP = 1, MeasQ = 1 , RMS = 1, BaseV = 'Vrms_HV', P = 'PHV_' + str(Numb), Q = 'QHV_' + str(Numb), Vrms = 'VHV_'+ str(Numb))\n",
    "        mult_obj.add_to_layer(\"Multimeter\")\n",
    "        multi_list = mult_obj.iid\n",
    "        multi_dict[k] = multi_list\n",
    "        x_mult, y_mult = mult_obj.get_location()\n",
    "        main.create_wire((Xmpt + 2, Ympt), (x_mult -1, y_mult)) # creat wire for multimeter 1\n",
    "\n",
    "        mult_obj = main.add_component('master','multimeter',Xmpt - 10, Ympt)\n",
    "        mult_obj.parameters(Name = 'mult_xfmrMV_' + str(Numb))\n",
    "        mult_obj.parameters(MeasP = 1, MeasQ = 1 , RMS = 1, BaseV = 'Vrms_MV', P = 'PMV_' + str(Numb), Q = 'QMV_' + str(Numb), Vrms = 'VMV_' + str(Numb), VolI=\"Vmv\"+str(Numb) , CurI=\"Imv\" + str(Numb))\n",
    "        mult_obj.add_to_layer(\"Multimeter\")\n",
    "        x_mult, y_mult = mult_obj.get_location()\n",
    "        main.create_wire((Xmpt - 3, Ympt), (Xmpt - 9, Ympt)) # creat wire for multimeter 2\n",
    "\n",
    "        main.create_wire((PI_loc[0] + 4, PI_loc[1]), (x_mult - 1, y_mult)) # creat wire for multimeter\n",
    "#         print('tien')\n",
    "    \n",
    "    # Add OLTC\n",
    "    oltc = main.add_component('ERCOTLib', 'OLTC', Xmpt, Ympt + 8)\n",
    "    oltc.parameters(label_name, pos_step=\"16\", neg_step=\"16\", pos_reg=\"10 [%]\", neg_reg=\"-10 [%]\", v_set=\"1.0 [pu]\", v_band=\"5 [%]\", td=\"30 [s]\", init_step=\"0\", enab_t=\"1 [s]\", lock=\"0\", )\n",
    "\n",
    "    label_obj = main.add_component('master', 'datalabel', Xmpt - 3, Ympt + 8)\n",
    "    label_name = 'VMV_' + str(Numb)\n",
    "\n",
    "    label_obj.parameters(Name = label_name)\n",
    "    \n",
    "    label_obj = main.add_component('master', 'datalabel', Xmpt + 3, Ympt + 8)\n",
    "    label_name = 'Tap' + str(Numb)\n",
    "    label_obj.parameters(Name = label_name)\n",
    "    \n",
    "    tap_obj = main.add_component('master', 'const',  Xmpt - 3, Ympt + 12)\n",
    "    tap_obj.parameters(Value = 0)\n",
    "    \n",
    "    label_obj = main.add_component('master', 'datalabel', Xmpt + 2, Ympt + 12)\n",
    "    label_name = 'InitTap' + str(Numb)\n",
    "    label_obj.parameters(Name = label_name)\n",
    "    main.create_wire((Xmpt - 1, Ympt + 12), (Xmpt + 2, Ympt + 12))\n",
    "\n",
    "    "
   ]
  },
  {
   "cell_type": "markdown",
   "metadata": {},
   "source": [
    "### Add bus POI"
   ]
  },
  {
   "cell_type": "code",
   "execution_count": null,
   "metadata": {},
   "outputs": [],
   "source": [
    "Ymult_loc = []\n",
    "Vrms_POI = Vrms_HV\n",
    "for (k, val) in multi_dict.items():\n",
    "    obj = main.component(val)\n",
    "    Xmult , Ymult = obj.get_location()\n",
    "    Ymult_loc.append(Ymult)\n",
    "    main.create_wire((Xmult + 1, Ymult), (Xmult + 6, Ymult))\n",
    "bus = main.create_bus((Xmult + 6, min(Ymult_loc) - 4), (Xmult + 6, max(Ymult_loc) +4))\n",
    "name = \"busPOI\"\n",
    "bus.parameters(Name = name, BaseKV = Vrms_collection)\n",
    "x_busMV, y_busMV = bus.get_location()\n",
    "\n",
    "\n",
    "const_obj = main.add_component('master', 'const',  Xmult - 4, min(Ymult_loc) - 10)\n",
    "const_obj.parameters(Value = Vrms_LV)\n",
    "\n",
    "label_obj = main.add_component('master', 'datalabel', Xmult, min(Ymult_loc) - 10)\n",
    "label_name = 'Vrms_LV'\n",
    "label_obj.parameters(Name = label_name)\n",
    "main.create_wire((Xmult - 2, min(Ymult_loc) - 10), (Xmult, min(Ymult_loc) - 10))\n",
    "\n",
    "\n",
    "const_obj = main.add_component('master', 'const',  Xmult + 4, min(Ymult_loc) - 10)\n",
    "const_obj.parameters(Value = Vrms_MV)\n",
    "\n",
    "label_obj = main.add_component('master', 'datalabel', Xmult + 8, min(Ymult_loc) - 10)\n",
    "label_name = 'Vrms_MV'\n",
    "label_obj.parameters(Name = label_name)\n",
    "main.create_wire((Xmult + 6, min(Ymult_loc) - 10), (Xmult + 8, min(Ymult_loc) - 10))\n",
    "\n",
    "const_obj = main.add_component('master', 'const',  Xmult + 12, min(Ymult_loc) - 10)\n",
    "const_obj.parameters(Value = Vrms_HV)\n",
    "\n",
    "label_obj = main.add_component('master', 'datalabel', Xmult + 16, min(Ymult_loc) - 10)\n",
    "label_name = 'Vrms_HV'\n",
    "label_obj.parameters(Name = label_name)\n",
    "main.create_wire((Xmult + 14, min(Ymult_loc) - 10), (Xmult + 16, min(Ymult_loc) - 10))\n",
    "\n",
    "\n",
    "const_obj = main.add_component('master', 'const',  Xmult + 20, min(Ymult_loc) - 10)\n",
    "const_obj.parameters(Value = Vrms_POI)\n",
    "\n",
    "label_obj = main.add_component('master', 'datalabel', Xmult + 24, min(Ymult_loc) - 10)\n",
    "label_name = 'Vrms_POI'\n",
    "label_obj.parameters(Name = label_name)\n",
    "main.create_wire((Xmult + 22, min(Ymult_loc) - 10), (Xmult + 24, min(Ymult_loc) - 10))\n",
    "\n"
   ]
  },
  {
   "cell_type": "markdown",
   "metadata": {},
   "source": [
    "### ADD transimision line and multimeter for POI"
   ]
  },
  {
   "cell_type": "code",
   "execution_count": null,
   "metadata": {},
   "outputs": [],
   "source": [
    "trans_line = main.add_component('master', 'newpi', x_busMV + 6, y_busMV + 4)\n",
    "trans_line.parameters(Name = 'Transimission_Line', PU = 3, Estim = 0, View = 2, F = Freq, len = 1, VR2 = Vrms_HV, \n",
    "                           RPUP2 = R1t, XLPUP2 = X1t, BPUP2 = B1t, RPUZ2 = R0t, XLPUZ2 = X0t, BPUZ2 = B0t)\n",
    "Xt_line, Yt_line= trans_line.get_location()\n",
    "\n",
    "# Add multimeter\n",
    "mult_obj = main.add_component('master','multimeter',Xt_line + 30, Yt_line)\n",
    "mult_obj.parameters(Name = 'mult_POI')\n",
    "mult_obj.parameters(MeasP = 1, MeasQ = 1 , RMS = 1, BaseV = 'Vrms_POI', P = 'Ppoi', Q = 'Qpoi', Vrms = 'Vpoi')\n",
    "x_mult, y_mult = mult_obj.get_location()\n",
    "\n",
    "main.create_wire((Xt_line + 4, Yt_line), (x_mult - 1, y_mult))\n",
    "\n",
    "main.create_wire((x_busMV, Yt_line), (Xt_line -2 , Yt_line))\n",
    "# add data labels for POI\n",
    "label_obj = main.add_component('master', 'datalabel', x_mult, y_mult + 4)\n",
    "label_name = 'Ppoi'\n",
    "label_obj.parameters(Name = label_name)\n",
    "dictLabel.update({label_name:label_obj.iid})\n",
    "\n",
    "label_obj = main.add_component('master', 'datalabel', x_mult, y_mult + 6)\n",
    "label_name = 'Qpoi'\n",
    "label_obj.parameters(Name = label_name)\n",
    "dictLabel.update({label_name:label_obj.iid})\n",
    "\n",
    "label_obj = main.add_component('master', 'datalabel', x_mult, y_mult + 8)\n",
    "label_name = 'Vpoi'\n",
    "label_obj.parameters(Name = label_name)\n",
    "dictLabel.update({label_name:label_obj.iid})\n",
    "\n",
    "all_label_name = ['Ppoi', 'Qpoi', 'Vpoi']\n",
    "for label_name in all_label_name:\n",
    "    label, out_iid = ss.usr_add_an_output_channel(main, label_name, dictLabel)\n",
    "    dictOutChannel.update({label:out_iid})\n",
    "    \n",
    "# Add grid\n",
    "vrtgrid = main.add_component('ERCOTLib', 'VRTGrid', x_mult + 14, y_mult)\n",
    "vrtgrid.parameters(VLL=str(Vrms_POI), vrtOnOff=\"0\", frtOnOff=\"0\", )\n",
    "vrtgrid.mirror()\n",
    "x_grid, y_grid = vrtgrid.get_location()\n",
    "main.create_wire((x_mult + 1, y_mult), (x_grid - 8, y_grid))\n",
    "\n",
    "# Add graphs for POI\n",
    "dictGraphs = {}\n",
    "all_label_name = ['Ppoi', 'Qpoi', 'Vpoi']\n",
    "loc = (x_mult, y_mult + 10)\n",
    "name, iid = ss.usr_add_plots(main, loc, all_label_name, dictOutChannel)\n",
    "dictGraphs.update({name:iid})"
   ]
  },
  {
   "cell_type": "markdown",
   "metadata": {},
   "source": [
    "### Add data label"
   ]
  },
  {
   "cell_type": "code",
   "execution_count": null,
   "metadata": {},
   "outputs": [],
   "source": [
    "# add data labels for HV\n",
    "distance = 8\n",
    "for (i, (k, val) ) in enumerate(IIDcolPI.items()):\n",
    "    # add data labels for LV\n",
    "    label_obj = main.add_component('master', 'datalabel', Xt_line -2, Yt_line + 4 + (i*distance))\n",
    "    label_name = 'PLV_' + str(i+1)\n",
    "    label_obj.parameters(Name = label_name)\n",
    "    dictLabel.update({label_name:label_obj.iid})\n",
    "\n",
    "    label_obj = main.add_component('master', 'datalabel', Xt_line -2, Yt_line + 6 + (i*distance))\n",
    "    label_name = 'QLV_' + str(i+1)\n",
    "    label_obj.parameters(Name = label_name)\n",
    "    dictLabel.update({label_name:label_obj.iid})\n",
    "    \n",
    "    label_obj = main.add_component('master', 'datalabel', Xt_line -2, Yt_line + 8 + (i*distance))\n",
    "    label_name = 'VLV_' + str(i+1)\n",
    "    label_obj.parameters(Name = label_name)\n",
    "    dictLabel.update({label_name:label_obj.iid})\n",
    "    \n",
    "    \n",
    "    # add data labels for MV_\n",
    "    label_obj = main.add_component('master', 'datalabel', Xt_line + 8 , Yt_line + 4 + (i*distance))\n",
    "    label_name = 'PMV_' + str(i+1)\n",
    "    label_obj.parameters(Name = label_name)\n",
    "    dictLabel.update({label_name:label_obj.iid})\n",
    "\n",
    "    label_obj = main.add_component('master', 'datalabel', Xt_line + 8, Yt_line + 6 + (i*distance))\n",
    "    label_name = 'QMV_' + str(i+1)\n",
    "    label_obj.parameters(Name = label_name)\n",
    "    dictLabel.update({label_name:label_obj.iid})\n",
    "    \n",
    "    label_obj = main.add_component('master', 'datalabel', Xt_line + 8, Yt_line + 8 + (i*distance))\n",
    "    label_name = 'VMV_' + str(i+1)\n",
    "    label_obj.parameters(Name = label_name)\n",
    "    dictLabel.update({label_name:label_obj.iid})\n",
    "    \n",
    "    # add data labels for HV\n",
    "    label_obj = main.add_component('master', 'datalabel', Xt_line + 18, Yt_line + 4 + (i*distance))\n",
    "    label_name = 'PHV_' + str(i+1)\n",
    "    label_obj.parameters(Name = label_name)\n",
    "    dictLabel.update({label_name:label_obj.iid})\n",
    "\n",
    "    label_obj = main.add_component('master', 'datalabel', Xt_line + 18, Yt_line + 6 + (i*distance))\n",
    "    label_name = 'QHV_' + str(i+1)\n",
    "    label_obj.parameters(Name = label_name)\n",
    "    dictLabel.update({label_name:label_obj.iid})\n",
    "    \n",
    "    label_obj = main.add_component('master', 'datalabel', Xt_line + 18, Yt_line + 8 + (i*distance))\n",
    "    label_name = 'VHV_' + str(i+1)\n",
    "    label_obj.parameters(Name = label_name)\n",
    "    dictLabel.update({label_name:label_obj.iid})\n",
    "\n",
    "    #add Output Channel for P,Q,V LV\n",
    "    all_label_name = ['PLV_' + str(i+1), 'QLV_' + str(i+1), 'VLV_' + str(i+1)]\n",
    "    for label_name in all_label_name:\n",
    "        label, out_iid = ss.usr_add_an_output_channel(main, label_name, dictLabel)\n",
    "        dictOutChannel.update({label:out_iid})\n",
    "\n",
    "    #add Output Channel for P,Q,V MV_\n",
    "    all_label_name = ['PMV_' + str(i+1), 'QMV_' + str(i+1), 'VMV_' + str(i+1)]\n",
    "    for label_name in all_label_name:\n",
    "        label, out_iid = ss.usr_add_an_output_channel(main, label_name, dictLabel)\n",
    "        dictOutChannel.update({label:out_iid})\n",
    "    \n",
    "    #add Output Channel for P,Q,V HV\n",
    "    all_label_name = ['PHV_' + str(i+1), 'QHV_' + str(i+1), 'VHV_' + str(i+1)]\n",
    "    for label_name in all_label_name:\n",
    "        label, out_iid = ss.usr_add_an_output_channel(main, label_name, dictLabel)\n",
    "        dictOutChannel.update({label:out_iid})\n",
    "        "
   ]
  },
  {
   "cell_type": "markdown",
   "metadata": {},
   "source": [
    "### Add graphs"
   ]
  },
  {
   "cell_type": "code",
   "execution_count": null,
   "metadata": {},
   "outputs": [],
   "source": [
    "x_temp = 0\n",
    "y_temp = 0 \n",
    "bus_temp = 0\n",
    "for (i, (k, val)) in enumerate(buslv_dict.items()): \n",
    "    obj = main.component(val[0])\n",
    "    x_obj, y_obj = obj.get_location()\n",
    "    if y_temp <= y_obj:\n",
    "        y_temp = y_obj\n",
    "        x_temp = x_obj\n",
    "        bus_temp = val[0]\n",
    "# Add graphs for LV, MV, HV   \n",
    "x_dist = 34\n",
    "y_dist = 60\n",
    "for (i, (k, val)) in enumerate(IIDcolPI.items()):\n",
    "    all_label_name = ['PLV_' + str(i+1), 'QLV_' + str(i+1), 'VLV_' + str(i+1)]\n",
    "    loc = (x_temp + 0 * x_dist, y_temp + (i + 1) * y_dist)\n",
    "    name, iid = ss.usr_add_plots(main, loc, all_label_name, dictOutChannel)\n",
    "    dictGraphs.update({name:iid})\n",
    "    \n",
    "    all_label_name = ['PMV_' + str(i+1), 'QMV_' + str(i+1), 'VMV_' + str(i+1)]\n",
    "    loc = (x_temp + 1 * x_dist , y_temp + (i + 1) * y_dist)\n",
    "    name, iid = ss.usr_add_plots(main, loc, all_label_name, dictOutChannel)\n",
    "    dictGraphs.update({name:iid})\n",
    "    \n",
    "    all_label_name = ['PHV_' + str(i+1), 'QHV_' + str(i+1), 'VHV_' + str(i+1)]\n",
    "    loc = (x_temp + 2 * x_dist , y_temp + (i + 1) * y_dist)\n",
    "    name, iid = ss.usr_add_plots(main, loc, all_label_name, dictOutChannel)\n",
    "    dictGraphs.update({name:iid})"
   ]
  },
  {
   "cell_type": "code",
   "execution_count": null,
   "metadata": {},
   "outputs": [],
   "source": [
    "project.build()\n",
    "project.save()\n",
    "pscad.save_workspace(project_name, working_dir + \"\\\\\" + \"PSCADprj\")\n"
   ]
  },
  {
   "cell_type": "code",
   "execution_count": null,
   "metadata": {},
   "outputs": [],
   "source": [
    "time_stop = time.time()\n",
    "print(\"--- %s seconds ---\" % (time_stop - time_start))"
   ]
  },
  {
   "cell_type": "markdown",
   "metadata": {},
   "source": [
    "# Send notification email"
   ]
  },
  {
   "cell_type": "code",
   "execution_count": null,
   "metadata": {},
   "outputs": [],
   "source": [
    "#if generate_email_flag == 'yes':\n",
    "#now = datetime.datetime.now()\n",
    "    #to = email_address\n",
    "    #computer_name = os.environ[\"COMPUTERNAME\"] + \" computer\"\n",
    "    #\n",
    "    #subject = 'Your PSCAD plant model is done. Great work!'\n",
    "    #body = 'Just want to let you know the PSCAD plant model is done at ' + now.strftime(\"%H:%M %m-%d-%Y\")  + \\\n",
    "    #'\\n The project files are located in ' + working_dir + ' on ' + computer_name +\\\n",
    "    #'\\n Way to do!'\n",
    "    #mailutils.send_gmail(sender, password, to, subject, body, attachments=None)\n",
    "    #mailutils.send_outlook_mail(to, subject, body, attachments=None)"
   ]
  },
  {
   "cell_type": "markdown",
   "metadata": {},
   "source": [
    "## Finish equivalent test "
   ]
  }
 ],
 "metadata": {
  "kernelspec": {
   "display_name": "Python 3",
   "language": "python",
   "name": "python3"
  },
  "language_info": {
   "codemirror_mode": {
    "name": "ipython",
    "version": 3
   },
   "file_extension": ".py",
   "mimetype": "text/x-python",
   "name": "python",
   "nbconvert_exporter": "python",
   "pygments_lexer": "ipython3",
   "version": "3.9.13"
  }
 },
 "nbformat": 4,
 "nbformat_minor": 4
}
